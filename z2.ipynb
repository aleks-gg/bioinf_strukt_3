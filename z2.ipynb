{
 "cells": [
  {
   "cell_type": "code",
   "execution_count": 1,
   "metadata": {},
   "outputs": [],
   "source": [
    "from Bio import PDB\n",
    "from Bio.PDB.Structure import Structure\n",
    "from Bio.PDB.vectors import calc_dihedral\n",
    "import matplotlib.pyplot as plt\n",
    "from get_structure import get_structure"
   ]
  },
  {
   "cell_type": "code",
   "execution_count": 2,
   "metadata": {},
   "outputs": [
    {
     "name": "stdout",
     "output_type": "stream",
     "text": [
      "Downloading PDB structure '4ywo'...\n"
     ]
    }
   ],
   "source": [
    "structure = get_structure(\"4YWO\")"
   ]
  },
  {
   "cell_type": "code",
   "execution_count": 3,
   "metadata": {},
   "outputs": [],
   "source": [
    "def calculate_phi_psi(structure: Structure) -> list:\n",
    "    phi_psi_angles = []\n",
    "    \n",
    "    for model in structure:\n",
    "        for chain in model:\n",
    "            residues = list(chain)\n",
    "            \n",
    "            for i in range(1, len(residues)-1):\n",
    "                prev_res = residues[i-1]\n",
    "                curr_res = residues[i]\n",
    "                next_res = residues[i+1]\n",
    "                \n",
    "                try:\n",
    "                    phi_atoms = [\n",
    "                        prev_res['C'],\n",
    "                        curr_res['N'],\n",
    "                        curr_res['CA'],\n",
    "                        curr_res['C']\n",
    "                    ]\n",
    "                    \n",
    "                    psi_atoms = [\n",
    "                        curr_res['N'],\n",
    "                        curr_res['CA'],\n",
    "                        curr_res['C'],\n",
    "                        next_res['N']\n",
    "                    ]\n",
    "                    \n",
    "                    phi = calc_dihedral(*[atom.get_vector() for atom in phi_atoms])\n",
    "                    psi = calc_dihedral(*[atom.get_vector() for atom in psi_atoms])\n",
    "                    \n",
    "                    phi_psi_angles.append((phi, psi))\n",
    "                    \n",
    "                except KeyError:\n",
    "                    continue\n",
    "                    \n",
    "    return phi_psi_angles"
   ]
  },
  {
   "cell_type": "code",
   "execution_count": 7,
   "metadata": {},
   "outputs": [],
   "source": [
    "def plot_ramachandran(phi_psi_angles: list[tuple[float, float]]):\n",
    "    phi, psi = zip(*phi_psi_angles)\n",
    "    plt.scatter(phi, psi, s=1)\n",
    "    plt.xlim(-5, 5)\n",
    "    plt.ylim(-5, 5)\n",
    "    plt.xlabel(\"Phi\")\n",
    "    plt.ylabel(\"Psi\")\n",
    "    plt.title(\"Ramachandran plot\")\n",
    "    plt.show()"
   ]
  },
  {
   "cell_type": "code",
   "execution_count": 8,
   "metadata": {},
   "outputs": [],
   "source": [
    "phi_psi = calculate_phi_psi(structure)"
   ]
  },
  {
   "cell_type": "code",
   "execution_count": 9,
   "metadata": {},
   "outputs": [
    {
     "data": {
      "image/png": "[encoded data removed]",
      "text/plain": [
       "<Figure size 640x480 with 1 Axes>"
      ]
     },
     "metadata": {},
     "output_type": "display_data"
    }
   ],
   "source": [
    "plot_ramachandran(phi_psi)"
   ]
  }
 ],
 "metadata": {
  "kernelspec": {
   "display_name": "default",
   "language": "python",
   "name": "python3"
  },
  "language_info": {
   "codemirror_mode": {
    "name": "ipython",
    "version": 3
   },
   "file_extension": ".py",
   "mimetype": "text/x-python",
   "name": "python",
   "nbconvert_exporter": "python",
   "pygments_lexer": "ipython3",
   "version": "3.12.8"
  }
 },
 "nbformat": 4,
 "nbformat_minor": 2
}
